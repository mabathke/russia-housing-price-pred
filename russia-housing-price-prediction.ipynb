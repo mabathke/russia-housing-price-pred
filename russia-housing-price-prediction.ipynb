{
 "cells": [
  {
   "cell_type": "markdown",
   "id": "cd442f8d",
   "metadata": {},
   "source": [
    "\n",
    "# Analyze “Auto MPG Dataset”\n",
    "\n",
    "## Data Understanding\n",
    " \n",
    "\n",
    "For the data understanding I basically looked at the different attributes in the table and checked if there is any missing/\"wrong\" attributes which I can spot. I also plotted the data to look if anything interesting shows up. The process is described more detailed in the following cells."
   ]
  },
  {
   "cell_type": "code",
   "execution_count": null,
   "outputs": [],
   "source": [
    "import pandas as pd\n",
    "import matplotlib.pyplot as plt\n",
    "import seaborn as sns\n",
    "\n",
    "df = pd.read_csv('all_v2.csv')"
   ],
   "metadata": {
    "collapsed": false,
    "pycharm": {
     "is_executing": true
    }
   }
  },
  {
   "cell_type": "code",
   "execution_count": null,
   "outputs": [],
   "source": [],
   "metadata": {
    "collapsed": false
   }
  }
 ],
 "metadata": {
  "kernelspec": {
   "display_name": "Python 3 (ipykernel)",
   "language": "python",
   "name": "python3"
  },
  "language_info": {
   "codemirror_mode": {
    "name": "ipython",
    "version": 3
   },
   "file_extension": ".py",
   "mimetype": "text/x-python",
   "name": "python",
   "nbconvert_exporter": "python",
   "pygments_lexer": "ipython3",
   "version": "3.9.7"
  }
 },
 "nbformat": 4,
 "nbformat_minor": 5
}
