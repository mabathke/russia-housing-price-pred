{
 "cells": [
  {
   "cell_type": "markdown",
   "id": "cd442f8d",
   "metadata": {},
   "source": [
    "\n",
    "# Analyze \"Russia Housing Prices\" and predicting them\n",
    "\n",
    "## Data Understanding\n",
    " \n"
   ]
  },
  {
   "cell_type": "code",
   "execution_count": 3,
   "outputs": [],
   "source": [
    "import pandas as pd\n",
    "import matplotlib.pyplot as plt\n",
    "import seaborn as sns\n",
    "\n",
    "df = pd.read_csv('all_v2.csv')"
   ],
   "metadata": {
    "collapsed": false
   }
  },
  {
   "cell_type": "code",
   "execution_count": 4,
   "outputs": [
    {
     "data": {
      "text/plain": "            price        date      time    geo_lat    geo_lon  region  \\\n0         6050000  2018-02-19  20:00:21  59.805808  30.376141    2661   \n1         8650000  2018-02-27  12:04:54  55.683807  37.297405      81   \n2         4000000  2018-02-28  15:44:00  56.295250  44.061637    2871   \n3         1850000  2018-03-01  11:24:52  44.996132  39.074783    2843   \n4         5450000  2018-03-01  17:42:43  55.918767  37.984642      81   \n...           ...         ...       ...        ...        ...     ...   \n5477001  19739760  2021-05-01  20:13:58  55.804736  37.750898       3   \n5477002  12503160  2021-05-01  20:14:01  55.841415  37.489624       3   \n5477003   8800000  2021-05-01  20:14:04  56.283909  44.075408    2871   \n5477004  11831910  2021-05-01  20:14:12  55.804736  37.750898       3   \n5477005  13316200  2021-05-01  20:14:15  55.860240  37.540356       3   \n\n         building_type  level  levels  rooms  area  kitchen_area  object_type  \n0                    1      8      10      3  82.6          10.8            1  \n1                    3      5      24      2  69.1          12.0            1  \n2                    1      5       9      3  66.0          10.0            1  \n3                    4     12      16      2  38.0           5.0           11  \n4                    3     13      14      2  60.0          10.0            1  \n...                ...    ...     ...    ...   ...           ...          ...  \n5477001              1      8      17      4  93.2          13.8           11  \n5477002              2     17      32      2  45.9           6.6           11  \n5477003              2      4      17      3  86.5          11.8            1  \n5477004              1      8      33      2  52.1          18.9           11  \n5477005              2     10      23      2  55.6          20.8           11  \n\n[5477006 rows x 13 columns]",
      "text/html": "<div>\n<style scoped>\n    .dataframe tbody tr th:only-of-type {\n        vertical-align: middle;\n    }\n\n    .dataframe tbody tr th {\n        vertical-align: top;\n    }\n\n    .dataframe thead th {\n        text-align: right;\n    }\n</style>\n<table border=\"1\" class=\"dataframe\">\n  <thead>\n    <tr style=\"text-align: right;\">\n      <th></th>\n      <th>price</th>\n      <th>date</th>\n      <th>time</th>\n      <th>geo_lat</th>\n      <th>geo_lon</th>\n      <th>region</th>\n      <th>building_type</th>\n      <th>level</th>\n      <th>levels</th>\n      <th>rooms</th>\n      <th>area</th>\n      <th>kitchen_area</th>\n      <th>object_type</th>\n    </tr>\n  </thead>\n  <tbody>\n    <tr>\n      <th>0</th>\n      <td>6050000</td>\n      <td>2018-02-19</td>\n      <td>20:00:21</td>\n      <td>59.805808</td>\n      <td>30.376141</td>\n      <td>2661</td>\n      <td>1</td>\n      <td>8</td>\n      <td>10</td>\n      <td>3</td>\n      <td>82.6</td>\n      <td>10.8</td>\n      <td>1</td>\n    </tr>\n    <tr>\n      <th>1</th>\n      <td>8650000</td>\n      <td>2018-02-27</td>\n      <td>12:04:54</td>\n      <td>55.683807</td>\n      <td>37.297405</td>\n      <td>81</td>\n      <td>3</td>\n      <td>5</td>\n      <td>24</td>\n      <td>2</td>\n      <td>69.1</td>\n      <td>12.0</td>\n      <td>1</td>\n    </tr>\n    <tr>\n      <th>2</th>\n      <td>4000000</td>\n      <td>2018-02-28</td>\n      <td>15:44:00</td>\n      <td>56.295250</td>\n      <td>44.061637</td>\n      <td>2871</td>\n      <td>1</td>\n      <td>5</td>\n      <td>9</td>\n      <td>3</td>\n      <td>66.0</td>\n      <td>10.0</td>\n      <td>1</td>\n    </tr>\n    <tr>\n      <th>3</th>\n      <td>1850000</td>\n      <td>2018-03-01</td>\n      <td>11:24:52</td>\n      <td>44.996132</td>\n      <td>39.074783</td>\n      <td>2843</td>\n      <td>4</td>\n      <td>12</td>\n      <td>16</td>\n      <td>2</td>\n      <td>38.0</td>\n      <td>5.0</td>\n      <td>11</td>\n    </tr>\n    <tr>\n      <th>4</th>\n      <td>5450000</td>\n      <td>2018-03-01</td>\n      <td>17:42:43</td>\n      <td>55.918767</td>\n      <td>37.984642</td>\n      <td>81</td>\n      <td>3</td>\n      <td>13</td>\n      <td>14</td>\n      <td>2</td>\n      <td>60.0</td>\n      <td>10.0</td>\n      <td>1</td>\n    </tr>\n    <tr>\n      <th>...</th>\n      <td>...</td>\n      <td>...</td>\n      <td>...</td>\n      <td>...</td>\n      <td>...</td>\n      <td>...</td>\n      <td>...</td>\n      <td>...</td>\n      <td>...</td>\n      <td>...</td>\n      <td>...</td>\n      <td>...</td>\n      <td>...</td>\n    </tr>\n    <tr>\n      <th>5477001</th>\n      <td>19739760</td>\n      <td>2021-05-01</td>\n      <td>20:13:58</td>\n      <td>55.804736</td>\n      <td>37.750898</td>\n      <td>3</td>\n      <td>1</td>\n      <td>8</td>\n      <td>17</td>\n      <td>4</td>\n      <td>93.2</td>\n      <td>13.8</td>\n      <td>11</td>\n    </tr>\n    <tr>\n      <th>5477002</th>\n      <td>12503160</td>\n      <td>2021-05-01</td>\n      <td>20:14:01</td>\n      <td>55.841415</td>\n      <td>37.489624</td>\n      <td>3</td>\n      <td>2</td>\n      <td>17</td>\n      <td>32</td>\n      <td>2</td>\n      <td>45.9</td>\n      <td>6.6</td>\n      <td>11</td>\n    </tr>\n    <tr>\n      <th>5477003</th>\n      <td>8800000</td>\n      <td>2021-05-01</td>\n      <td>20:14:04</td>\n      <td>56.283909</td>\n      <td>44.075408</td>\n      <td>2871</td>\n      <td>2</td>\n      <td>4</td>\n      <td>17</td>\n      <td>3</td>\n      <td>86.5</td>\n      <td>11.8</td>\n      <td>1</td>\n    </tr>\n    <tr>\n      <th>5477004</th>\n      <td>11831910</td>\n      <td>2021-05-01</td>\n      <td>20:14:12</td>\n      <td>55.804736</td>\n      <td>37.750898</td>\n      <td>3</td>\n      <td>1</td>\n      <td>8</td>\n      <td>33</td>\n      <td>2</td>\n      <td>52.1</td>\n      <td>18.9</td>\n      <td>11</td>\n    </tr>\n    <tr>\n      <th>5477005</th>\n      <td>13316200</td>\n      <td>2021-05-01</td>\n      <td>20:14:15</td>\n      <td>55.860240</td>\n      <td>37.540356</td>\n      <td>3</td>\n      <td>2</td>\n      <td>10</td>\n      <td>23</td>\n      <td>2</td>\n      <td>55.6</td>\n      <td>20.8</td>\n      <td>11</td>\n    </tr>\n  </tbody>\n</table>\n<p>5477006 rows × 13 columns</p>\n</div>"
     },
     "execution_count": 4,
     "metadata": {},
     "output_type": "execute_result"
    }
   ],
   "source": [
    "df"
   ],
   "metadata": {
    "collapsed": false
   }
  },
  {
   "cell_type": "code",
   "execution_count": 5,
   "outputs": [
    {
     "data": {
      "text/plain": "              price        date      time    geo_lat    geo_lon  region  \\\n43821   -1633967296  2018-09-14  10:48:27  57.983337  56.216044    5520   \n43822   -1633967296  2018-09-14  10:48:27  57.983337  56.216044    5520   \n179212            0  2018-10-01  08:59:36  53.327778  83.668570    6817   \n199895   -429242296  2018-10-04  09:21:35  55.038734  82.985600    9654   \n208483  -1744967296  2018-10-06  05:06:46  54.991330  82.882575    9654   \n...             ...         ...       ...        ...        ...     ...   \n5382188 -2041757296  2021-04-23  07:00:09  57.636265  39.973962    2604   \n5382595 -1794967296  2021-04-23  07:37:00  56.115619  38.416266      81   \n5398253 -1494967296  2021-04-26  05:04:58  45.111303  36.881901    2843   \n5419426 -2094967296  2021-04-27  09:05:31  58.223183  68.305352    3991   \n5447885  -344967296  2021-04-30  05:42:35  53.746017  91.427071    2359   \n\n         building_type  level  levels  rooms    area  kitchen_area  \\\n43821                1     13      22      1   38.92         17.26   \n43822                1     14      22      1   38.92         17.26   \n179212               3      5      10      3  104.00         15.00   \n199895               2      5      25      2   57.27          9.31   \n208483               3      4       5      2   45.00          6.00   \n...                ...    ...     ...    ...     ...           ...   \n5382188              3      2       4      1   41.08          9.31   \n5382595              1      4       5      2   56.00          9.00   \n5398253              3      3       3      1   45.00         17.00   \n5419426              3     14      19      1   30.00          8.00   \n5447885              1      7       9      4   67.20          9.20   \n\n         object_type  \n43821             11  \n43822             11  \n179212             1  \n199895            11  \n208483             1  \n...              ...  \n5382188           11  \n5382595            1  \n5398253           11  \n5419426            1  \n5447885            1  \n\n[388 rows x 13 columns]",
      "text/html": "<div>\n<style scoped>\n    .dataframe tbody tr th:only-of-type {\n        vertical-align: middle;\n    }\n\n    .dataframe tbody tr th {\n        vertical-align: top;\n    }\n\n    .dataframe thead th {\n        text-align: right;\n    }\n</style>\n<table border=\"1\" class=\"dataframe\">\n  <thead>\n    <tr style=\"text-align: right;\">\n      <th></th>\n      <th>price</th>\n      <th>date</th>\n      <th>time</th>\n      <th>geo_lat</th>\n      <th>geo_lon</th>\n      <th>region</th>\n      <th>building_type</th>\n      <th>level</th>\n      <th>levels</th>\n      <th>rooms</th>\n      <th>area</th>\n      <th>kitchen_area</th>\n      <th>object_type</th>\n    </tr>\n  </thead>\n  <tbody>\n    <tr>\n      <th>43821</th>\n      <td>-1633967296</td>\n      <td>2018-09-14</td>\n      <td>10:48:27</td>\n      <td>57.983337</td>\n      <td>56.216044</td>\n      <td>5520</td>\n      <td>1</td>\n      <td>13</td>\n      <td>22</td>\n      <td>1</td>\n      <td>38.92</td>\n      <td>17.26</td>\n      <td>11</td>\n    </tr>\n    <tr>\n      <th>43822</th>\n      <td>-1633967296</td>\n      <td>2018-09-14</td>\n      <td>10:48:27</td>\n      <td>57.983337</td>\n      <td>56.216044</td>\n      <td>5520</td>\n      <td>1</td>\n      <td>14</td>\n      <td>22</td>\n      <td>1</td>\n      <td>38.92</td>\n      <td>17.26</td>\n      <td>11</td>\n    </tr>\n    <tr>\n      <th>179212</th>\n      <td>0</td>\n      <td>2018-10-01</td>\n      <td>08:59:36</td>\n      <td>53.327778</td>\n      <td>83.668570</td>\n      <td>6817</td>\n      <td>3</td>\n      <td>5</td>\n      <td>10</td>\n      <td>3</td>\n      <td>104.00</td>\n      <td>15.00</td>\n      <td>1</td>\n    </tr>\n    <tr>\n      <th>199895</th>\n      <td>-429242296</td>\n      <td>2018-10-04</td>\n      <td>09:21:35</td>\n      <td>55.038734</td>\n      <td>82.985600</td>\n      <td>9654</td>\n      <td>2</td>\n      <td>5</td>\n      <td>25</td>\n      <td>2</td>\n      <td>57.27</td>\n      <td>9.31</td>\n      <td>11</td>\n    </tr>\n    <tr>\n      <th>208483</th>\n      <td>-1744967296</td>\n      <td>2018-10-06</td>\n      <td>05:06:46</td>\n      <td>54.991330</td>\n      <td>82.882575</td>\n      <td>9654</td>\n      <td>3</td>\n      <td>4</td>\n      <td>5</td>\n      <td>2</td>\n      <td>45.00</td>\n      <td>6.00</td>\n      <td>1</td>\n    </tr>\n    <tr>\n      <th>...</th>\n      <td>...</td>\n      <td>...</td>\n      <td>...</td>\n      <td>...</td>\n      <td>...</td>\n      <td>...</td>\n      <td>...</td>\n      <td>...</td>\n      <td>...</td>\n      <td>...</td>\n      <td>...</td>\n      <td>...</td>\n      <td>...</td>\n    </tr>\n    <tr>\n      <th>5382188</th>\n      <td>-2041757296</td>\n      <td>2021-04-23</td>\n      <td>07:00:09</td>\n      <td>57.636265</td>\n      <td>39.973962</td>\n      <td>2604</td>\n      <td>3</td>\n      <td>2</td>\n      <td>4</td>\n      <td>1</td>\n      <td>41.08</td>\n      <td>9.31</td>\n      <td>11</td>\n    </tr>\n    <tr>\n      <th>5382595</th>\n      <td>-1794967296</td>\n      <td>2021-04-23</td>\n      <td>07:37:00</td>\n      <td>56.115619</td>\n      <td>38.416266</td>\n      <td>81</td>\n      <td>1</td>\n      <td>4</td>\n      <td>5</td>\n      <td>2</td>\n      <td>56.00</td>\n      <td>9.00</td>\n      <td>1</td>\n    </tr>\n    <tr>\n      <th>5398253</th>\n      <td>-1494967296</td>\n      <td>2021-04-26</td>\n      <td>05:04:58</td>\n      <td>45.111303</td>\n      <td>36.881901</td>\n      <td>2843</td>\n      <td>3</td>\n      <td>3</td>\n      <td>3</td>\n      <td>1</td>\n      <td>45.00</td>\n      <td>17.00</td>\n      <td>11</td>\n    </tr>\n    <tr>\n      <th>5419426</th>\n      <td>-2094967296</td>\n      <td>2021-04-27</td>\n      <td>09:05:31</td>\n      <td>58.223183</td>\n      <td>68.305352</td>\n      <td>3991</td>\n      <td>3</td>\n      <td>14</td>\n      <td>19</td>\n      <td>1</td>\n      <td>30.00</td>\n      <td>8.00</td>\n      <td>1</td>\n    </tr>\n    <tr>\n      <th>5447885</th>\n      <td>-344967296</td>\n      <td>2021-04-30</td>\n      <td>05:42:35</td>\n      <td>53.746017</td>\n      <td>91.427071</td>\n      <td>2359</td>\n      <td>1</td>\n      <td>7</td>\n      <td>9</td>\n      <td>4</td>\n      <td>67.20</td>\n      <td>9.20</td>\n      <td>1</td>\n    </tr>\n  </tbody>\n</table>\n<p>388 rows × 13 columns</p>\n</div>"
     },
     "execution_count": 5,
     "metadata": {},
     "output_type": "execute_result"
    }
   ],
   "source": [
    "df[df['price']<=0]"
   ],
   "metadata": {
    "collapsed": false
   }
  },
  {
   "cell_type": "code",
   "execution_count": null,
   "outputs": [],
   "source": [],
   "metadata": {
    "collapsed": false
   }
  }
 ],
 "metadata": {
  "kernelspec": {
   "display_name": "Python 3 (ipykernel)",
   "language": "python",
   "name": "python3"
  },
  "language_info": {
   "codemirror_mode": {
    "name": "ipython",
    "version": 3
   },
   "file_extension": ".py",
   "mimetype": "text/x-python",
   "name": "python",
   "nbconvert_exporter": "python",
   "pygments_lexer": "ipython3",
   "version": "3.9.7"
  }
 },
 "nbformat": 4,
 "nbformat_minor": 5
}
