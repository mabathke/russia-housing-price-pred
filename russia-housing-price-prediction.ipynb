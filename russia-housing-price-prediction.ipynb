{
 "cells": [
  {
   "cell_type": "markdown",
   "id": "cd442f8d",
   "metadata": {},
   "source": [
    "\n",
    "# Analyze \"Russia Housing Prices\" and predicting them\n",
    "\n",
    "The goal with the given dataset is to use the data to make a prediction-model after doing an EDA. To achieve this I first come up with some questions I want to answer. Furthermore, I will be using a CRISP-DM like process to get from the EDA to the prediction-model.\n",
    "\n",
    "## 1. Data Understanding\n",
    " For the data understanding the best thing is to use the description of the kaggle-side where the data is from (https://www.kaggle.com/datasets/mrdaniilak/russia-real-estate-20182021). This saves quite some time.\n",
    "\n",
    "The dataset has 13 fields. Each row contains data about an ad for real estate in russia.\n",
    "\n",
    "- **date**: date of publication of the announcement.\n",
    "- **time**: the time when the ad was published.\n",
    "- **geo_lat**: Latitude.\n",
    "- **geo_lon**: Longitude.\n",
    "- **region**: Region of Russia. There are 85 subjects in the country in total.\n",
    "- **building_type**: Facade type. 0 - Other. 1 - Panel. 2 - Monolithic. 3 - Brick. 4 - Blocky. 5 - Wooden.\n",
    "- **object_type**: Apartment type. 1 - Secondary real estate market; 2 - New building;.\n",
    "- **level**: Apartment floor.\n",
    "- **levels**: Number of storeys.\n",
    "- **rooms**: the number of living rooms. If the value is \"-1\", then it means \"studio apartment\".\n",
    "- **area**: the total area of the apartment in m².\n",
    "- **kitchen_area**: - Kitchen area in m².\n",
    "- **price**: Price in rubles.\n"
   ]
  },
  {
   "cell_type": "code",
   "execution_count": 62,
   "outputs": [],
   "source": [
    "import dateutil.utils\n",
    "import pandas as pd\n",
    "import matplotlib.pyplot as plt\n",
    "import seaborn as sns\n",
    "from datetime import date\n",
    "\n",
    "import warnings\n",
    "warnings.filterwarnings('ignore')\n",
    "\n"
   ],
   "metadata": {
    "collapsed": false
   }
  },
  {
   "cell_type": "code",
   "execution_count": 63,
   "outputs": [],
   "source": [
    "df = pd.read_csv('all_v2.csv')\n",
    "df.date = pd.to_datetime(df.date)\n",
    "df.date = df.date.dt.date\n",
    "temp = pd.to_datetime(df.time, format='%H:%M:%S').apply(lambda d : d.time())\n",
    "df.time = temp"
   ],
   "metadata": {
    "collapsed": false
   }
  },
  {
   "cell_type": "code",
   "execution_count": 64,
   "outputs": [
    {
     "data": {
      "text/plain": "            price        date      time    geo_lat    geo_lon  region  \\\n0         6050000  2018-02-19  20:00:21  59.805808  30.376141    2661   \n1         8650000  2018-02-27  12:04:54  55.683807  37.297405      81   \n2         4000000  2018-02-28  15:44:00  56.295250  44.061637    2871   \n3         1850000  2018-03-01  11:24:52  44.996132  39.074783    2843   \n4         5450000  2018-03-01  17:42:43  55.918767  37.984642      81   \n...           ...         ...       ...        ...        ...     ...   \n5477001  19739760  2021-05-01  20:13:58  55.804736  37.750898       3   \n5477002  12503160  2021-05-01  20:14:01  55.841415  37.489624       3   \n5477003   8800000  2021-05-01  20:14:04  56.283909  44.075408    2871   \n5477004  11831910  2021-05-01  20:14:12  55.804736  37.750898       3   \n5477005  13316200  2021-05-01  20:14:15  55.860240  37.540356       3   \n\n         building_type  level  levels  rooms  area  kitchen_area  object_type  \n0                    1      8      10      3  82.6          10.8            1  \n1                    3      5      24      2  69.1          12.0            1  \n2                    1      5       9      3  66.0          10.0            1  \n3                    4     12      16      2  38.0           5.0           11  \n4                    3     13      14      2  60.0          10.0            1  \n...                ...    ...     ...    ...   ...           ...          ...  \n5477001              1      8      17      4  93.2          13.8           11  \n5477002              2     17      32      2  45.9           6.6           11  \n5477003              2      4      17      3  86.5          11.8            1  \n5477004              1      8      33      2  52.1          18.9           11  \n5477005              2     10      23      2  55.6          20.8           11  \n\n[5477006 rows x 13 columns]",
      "text/html": "<div>\n<style scoped>\n    .dataframe tbody tr th:only-of-type {\n        vertical-align: middle;\n    }\n\n    .dataframe tbody tr th {\n        vertical-align: top;\n    }\n\n    .dataframe thead th {\n        text-align: right;\n    }\n</style>\n<table border=\"1\" class=\"dataframe\">\n  <thead>\n    <tr style=\"text-align: right;\">\n      <th></th>\n      <th>price</th>\n      <th>date</th>\n      <th>time</th>\n      <th>geo_lat</th>\n      <th>geo_lon</th>\n      <th>region</th>\n      <th>building_type</th>\n      <th>level</th>\n      <th>levels</th>\n      <th>rooms</th>\n      <th>area</th>\n      <th>kitchen_area</th>\n      <th>object_type</th>\n    </tr>\n  </thead>\n  <tbody>\n    <tr>\n      <th>0</th>\n      <td>6050000</td>\n      <td>2018-02-19</td>\n      <td>20:00:21</td>\n      <td>59.805808</td>\n      <td>30.376141</td>\n      <td>2661</td>\n      <td>1</td>\n      <td>8</td>\n      <td>10</td>\n      <td>3</td>\n      <td>82.6</td>\n      <td>10.8</td>\n      <td>1</td>\n    </tr>\n    <tr>\n      <th>1</th>\n      <td>8650000</td>\n      <td>2018-02-27</td>\n      <td>12:04:54</td>\n      <td>55.683807</td>\n      <td>37.297405</td>\n      <td>81</td>\n      <td>3</td>\n      <td>5</td>\n      <td>24</td>\n      <td>2</td>\n      <td>69.1</td>\n      <td>12.0</td>\n      <td>1</td>\n    </tr>\n    <tr>\n      <th>2</th>\n      <td>4000000</td>\n      <td>2018-02-28</td>\n      <td>15:44:00</td>\n      <td>56.295250</td>\n      <td>44.061637</td>\n      <td>2871</td>\n      <td>1</td>\n      <td>5</td>\n      <td>9</td>\n      <td>3</td>\n      <td>66.0</td>\n      <td>10.0</td>\n      <td>1</td>\n    </tr>\n    <tr>\n      <th>3</th>\n      <td>1850000</td>\n      <td>2018-03-01</td>\n      <td>11:24:52</td>\n      <td>44.996132</td>\n      <td>39.074783</td>\n      <td>2843</td>\n      <td>4</td>\n      <td>12</td>\n      <td>16</td>\n      <td>2</td>\n      <td>38.0</td>\n      <td>5.0</td>\n      <td>11</td>\n    </tr>\n    <tr>\n      <th>4</th>\n      <td>5450000</td>\n      <td>2018-03-01</td>\n      <td>17:42:43</td>\n      <td>55.918767</td>\n      <td>37.984642</td>\n      <td>81</td>\n      <td>3</td>\n      <td>13</td>\n      <td>14</td>\n      <td>2</td>\n      <td>60.0</td>\n      <td>10.0</td>\n      <td>1</td>\n    </tr>\n    <tr>\n      <th>...</th>\n      <td>...</td>\n      <td>...</td>\n      <td>...</td>\n      <td>...</td>\n      <td>...</td>\n      <td>...</td>\n      <td>...</td>\n      <td>...</td>\n      <td>...</td>\n      <td>...</td>\n      <td>...</td>\n      <td>...</td>\n      <td>...</td>\n    </tr>\n    <tr>\n      <th>5477001</th>\n      <td>19739760</td>\n      <td>2021-05-01</td>\n      <td>20:13:58</td>\n      <td>55.804736</td>\n      <td>37.750898</td>\n      <td>3</td>\n      <td>1</td>\n      <td>8</td>\n      <td>17</td>\n      <td>4</td>\n      <td>93.2</td>\n      <td>13.8</td>\n      <td>11</td>\n    </tr>\n    <tr>\n      <th>5477002</th>\n      <td>12503160</td>\n      <td>2021-05-01</td>\n      <td>20:14:01</td>\n      <td>55.841415</td>\n      <td>37.489624</td>\n      <td>3</td>\n      <td>2</td>\n      <td>17</td>\n      <td>32</td>\n      <td>2</td>\n      <td>45.9</td>\n      <td>6.6</td>\n      <td>11</td>\n    </tr>\n    <tr>\n      <th>5477003</th>\n      <td>8800000</td>\n      <td>2021-05-01</td>\n      <td>20:14:04</td>\n      <td>56.283909</td>\n      <td>44.075408</td>\n      <td>2871</td>\n      <td>2</td>\n      <td>4</td>\n      <td>17</td>\n      <td>3</td>\n      <td>86.5</td>\n      <td>11.8</td>\n      <td>1</td>\n    </tr>\n    <tr>\n      <th>5477004</th>\n      <td>11831910</td>\n      <td>2021-05-01</td>\n      <td>20:14:12</td>\n      <td>55.804736</td>\n      <td>37.750898</td>\n      <td>3</td>\n      <td>1</td>\n      <td>8</td>\n      <td>33</td>\n      <td>2</td>\n      <td>52.1</td>\n      <td>18.9</td>\n      <td>11</td>\n    </tr>\n    <tr>\n      <th>5477005</th>\n      <td>13316200</td>\n      <td>2021-05-01</td>\n      <td>20:14:15</td>\n      <td>55.860240</td>\n      <td>37.540356</td>\n      <td>3</td>\n      <td>2</td>\n      <td>10</td>\n      <td>23</td>\n      <td>2</td>\n      <td>55.6</td>\n      <td>20.8</td>\n      <td>11</td>\n    </tr>\n  </tbody>\n</table>\n<p>5477006 rows × 13 columns</p>\n</div>"
     },
     "execution_count": 64,
     "metadata": {},
     "output_type": "execute_result"
    }
   ],
   "source": [
    "df"
   ],
   "metadata": {
    "collapsed": false
   }
  },
  {
   "cell_type": "code",
   "execution_count": 65,
   "outputs": [
    {
     "data": {
      "text/plain": "              price       geo_lat       geo_lon        region  building_type  \\\ncount  5.477006e+06  5.477006e+06  5.477006e+06  5.477006e+06   5.477006e+06   \nmean   4.422029e+06  5.403826e+01  5.324433e+01  4.307141e+03   1.948966e+00   \nstd    2.150752e+07  4.622758e+00  2.074763e+01  3.308050e+03   1.038537e+00   \nmin   -2.144967e+09  4.145906e+01  1.989020e+01  3.000000e+00   0.000000e+00   \n25%    1.950000e+06  5.337768e+01  3.777790e+01  2.661000e+03   1.000000e+00   \n50%    2.990000e+06  5.517139e+01  4.306774e+01  2.922000e+03   2.000000e+00   \n75%    4.802000e+06  5.622613e+01  6.564895e+01  6.171000e+03   3.000000e+00   \nmax    2.147484e+09  7.198040e+01  1.625361e+02  6.188800e+04   5.000000e+00   \n\n              level        levels         rooms          area  kitchen_area  \\\ncount  5.477006e+06  5.477006e+06  5.477006e+06  5.477006e+06  5.477006e+06   \nmean   6.214530e+00  1.139892e+01  1.726173e+00  5.391825e+01  1.062840e+01   \nstd    4.957419e+00  6.535734e+00  1.082133e+00  3.335293e+01  9.792380e+00   \nmin    1.000000e+00  1.000000e+00 -2.000000e+00  7.000000e-02  1.000000e-02   \n25%    2.000000e+00  5.000000e+00  1.000000e+00  3.800000e+01  7.000000e+00   \n50%    5.000000e+00  1.000000e+01  2.000000e+00  4.802000e+01  9.700000e+00   \n75%    9.000000e+00  1.600000e+01  2.000000e+00  6.313000e+01  1.270000e+01   \nmax    3.900000e+01  3.900000e+01  1.000000e+01  7.856000e+03  9.999000e+03   \n\n        object_type  \ncount  5.477006e+06  \nmean   3.945399e+00  \nstd    4.558357e+00  \nmin    1.000000e+00  \n25%    1.000000e+00  \n50%    1.000000e+00  \n75%    1.100000e+01  \nmax    1.100000e+01  ",
      "text/html": "<div>\n<style scoped>\n    .dataframe tbody tr th:only-of-type {\n        vertical-align: middle;\n    }\n\n    .dataframe tbody tr th {\n        vertical-align: top;\n    }\n\n    .dataframe thead th {\n        text-align: right;\n    }\n</style>\n<table border=\"1\" class=\"dataframe\">\n  <thead>\n    <tr style=\"text-align: right;\">\n      <th></th>\n      <th>price</th>\n      <th>geo_lat</th>\n      <th>geo_lon</th>\n      <th>region</th>\n      <th>building_type</th>\n      <th>level</th>\n      <th>levels</th>\n      <th>rooms</th>\n      <th>area</th>\n      <th>kitchen_area</th>\n      <th>object_type</th>\n    </tr>\n  </thead>\n  <tbody>\n    <tr>\n      <th>count</th>\n      <td>5.477006e+06</td>\n      <td>5.477006e+06</td>\n      <td>5.477006e+06</td>\n      <td>5.477006e+06</td>\n      <td>5.477006e+06</td>\n      <td>5.477006e+06</td>\n      <td>5.477006e+06</td>\n      <td>5.477006e+06</td>\n      <td>5.477006e+06</td>\n      <td>5.477006e+06</td>\n      <td>5.477006e+06</td>\n    </tr>\n    <tr>\n      <th>mean</th>\n      <td>4.422029e+06</td>\n      <td>5.403826e+01</td>\n      <td>5.324433e+01</td>\n      <td>4.307141e+03</td>\n      <td>1.948966e+00</td>\n      <td>6.214530e+00</td>\n      <td>1.139892e+01</td>\n      <td>1.726173e+00</td>\n      <td>5.391825e+01</td>\n      <td>1.062840e+01</td>\n      <td>3.945399e+00</td>\n    </tr>\n    <tr>\n      <th>std</th>\n      <td>2.150752e+07</td>\n      <td>4.622758e+00</td>\n      <td>2.074763e+01</td>\n      <td>3.308050e+03</td>\n      <td>1.038537e+00</td>\n      <td>4.957419e+00</td>\n      <td>6.535734e+00</td>\n      <td>1.082133e+00</td>\n      <td>3.335293e+01</td>\n      <td>9.792380e+00</td>\n      <td>4.558357e+00</td>\n    </tr>\n    <tr>\n      <th>min</th>\n      <td>-2.144967e+09</td>\n      <td>4.145906e+01</td>\n      <td>1.989020e+01</td>\n      <td>3.000000e+00</td>\n      <td>0.000000e+00</td>\n      <td>1.000000e+00</td>\n      <td>1.000000e+00</td>\n      <td>-2.000000e+00</td>\n      <td>7.000000e-02</td>\n      <td>1.000000e-02</td>\n      <td>1.000000e+00</td>\n    </tr>\n    <tr>\n      <th>25%</th>\n      <td>1.950000e+06</td>\n      <td>5.337768e+01</td>\n      <td>3.777790e+01</td>\n      <td>2.661000e+03</td>\n      <td>1.000000e+00</td>\n      <td>2.000000e+00</td>\n      <td>5.000000e+00</td>\n      <td>1.000000e+00</td>\n      <td>3.800000e+01</td>\n      <td>7.000000e+00</td>\n      <td>1.000000e+00</td>\n    </tr>\n    <tr>\n      <th>50%</th>\n      <td>2.990000e+06</td>\n      <td>5.517139e+01</td>\n      <td>4.306774e+01</td>\n      <td>2.922000e+03</td>\n      <td>2.000000e+00</td>\n      <td>5.000000e+00</td>\n      <td>1.000000e+01</td>\n      <td>2.000000e+00</td>\n      <td>4.802000e+01</td>\n      <td>9.700000e+00</td>\n      <td>1.000000e+00</td>\n    </tr>\n    <tr>\n      <th>75%</th>\n      <td>4.802000e+06</td>\n      <td>5.622613e+01</td>\n      <td>6.564895e+01</td>\n      <td>6.171000e+03</td>\n      <td>3.000000e+00</td>\n      <td>9.000000e+00</td>\n      <td>1.600000e+01</td>\n      <td>2.000000e+00</td>\n      <td>6.313000e+01</td>\n      <td>1.270000e+01</td>\n      <td>1.100000e+01</td>\n    </tr>\n    <tr>\n      <th>max</th>\n      <td>2.147484e+09</td>\n      <td>7.198040e+01</td>\n      <td>1.625361e+02</td>\n      <td>6.188800e+04</td>\n      <td>5.000000e+00</td>\n      <td>3.900000e+01</td>\n      <td>3.900000e+01</td>\n      <td>1.000000e+01</td>\n      <td>7.856000e+03</td>\n      <td>9.999000e+03</td>\n      <td>1.100000e+01</td>\n    </tr>\n  </tbody>\n</table>\n</div>"
     },
     "execution_count": 65,
     "metadata": {},
     "output_type": "execute_result"
    }
   ],
   "source": [
    "df.describe(datetime_is_numeric=True)"
   ],
   "metadata": {
    "collapsed": false
   }
  },
  {
   "cell_type": "code",
   "execution_count": 66,
   "outputs": [
    {
     "data": {
      "text/plain": "1     3863809\n11    1613197\nName: object_type, dtype: int64"
     },
     "execution_count": 66,
     "metadata": {},
     "output_type": "execute_result"
    }
   ],
   "source": [
    "df.object_type.value_counts()"
   ],
   "metadata": {
    "collapsed": false
   }
  },
  {
   "cell_type": "code",
   "execution_count": 67,
   "outputs": [
    {
     "data": {
      "text/plain": "price            0\ndate             0\ntime             0\ngeo_lat          0\ngeo_lon          0\nregion           0\nbuilding_type    0\nlevel            0\nlevels           0\nrooms            0\narea             0\nkitchen_area     0\nobject_type      0\ndtype: int64"
     },
     "execution_count": 67,
     "metadata": {},
     "output_type": "execute_result"
    }
   ],
   "source": [
    "df.isnull().sum()"
   ],
   "metadata": {
    "collapsed": false
   }
  },
  {
   "cell_type": "markdown",
   "source": [],
   "metadata": {
    "collapsed": false
   }
  },
  {
   "cell_type": "code",
   "execution_count": 68,
   "outputs": [
    {
     "name": "stdout",
     "output_type": "stream",
     "text": [
      "<class 'pandas.core.frame.DataFrame'>\n",
      "RangeIndex: 5477006 entries, 0 to 5477005\n",
      "Data columns (total 13 columns):\n",
      " #   Column         Dtype  \n",
      "---  ------         -----  \n",
      " 0   price          int64  \n",
      " 1   date           object \n",
      " 2   time           object \n",
      " 3   geo_lat        float64\n",
      " 4   geo_lon        float64\n",
      " 5   region         int64  \n",
      " 6   building_type  int64  \n",
      " 7   level          int64  \n",
      " 8   levels         int64  \n",
      " 9   rooms          int64  \n",
      " 10  area           float64\n",
      " 11  kitchen_area   float64\n",
      " 12  object_type    int64  \n",
      "dtypes: float64(4), int64(7), object(2)\n",
      "memory usage: 543.2+ MB\n"
     ]
    }
   ],
   "source": [
    "df.info()"
   ],
   "metadata": {
    "collapsed": false
   }
  },
  {
   "cell_type": "markdown",
   "source": [
    "With the code blocks above, we can measure the data quality:\n",
    "- **Correctness**: The data is not entirely correct since we got e.g. prices that are negative and object_type seems not to be quite correct since they do not match with the given description. These can be fixed in the data preparation phase.\n",
    "- **Completeness**: The data seems to be complete.\n",
    "- **Redundancy**: For now I cannot spot any redundancies."
   ],
   "metadata": {
    "collapsed": false
   }
  },
  {
   "cell_type": "markdown",
   "source": [
    "## 2. Data Preparation\n",
    "\n",
    "After spotting some flaws in the data understanding phase, we tackle those in the upcoming phase. The first thing to be done is deleting the negative prices and rooms. From the data description we can also see that the columns `object_type` and `building_type` are \"encoded\". For further analysis it makes sense to replace the numbers with their string representations."
   ],
   "metadata": {
    "collapsed": false
   }
  },
  {
   "cell_type": "code",
   "execution_count": 69,
   "outputs": [],
   "source": [
    "df = df[df.price>0]"
   ],
   "metadata": {
    "collapsed": false
   }
  },
  {
   "cell_type": "code",
   "execution_count": 70,
   "outputs": [],
   "source": [
    "df= df[df.rooms>0]"
   ],
   "metadata": {
    "collapsed": false
   }
  },
  {
   "cell_type": "code",
   "execution_count": 71,
   "outputs": [],
   "source": [
    "df['building_type']= df['building_type'].replace([0,1,2,3,4,5],['Other','Panel','Monolithic','Brick','Blocky','Wooden'])"
   ],
   "metadata": {
    "collapsed": false
   }
  },
  {
   "cell_type": "code",
   "execution_count": 72,
   "outputs": [],
   "source": [
    "df['object_type']= df['object_type'].replace([1,11],['Secondary Real Estate Market','New Building'])"
   ],
   "metadata": {
    "collapsed": false
   }
  },
  {
   "cell_type": "markdown",
   "source": [
    "The other problem we have is that the price is represented in russian rubel, which is obvious since we got a dataset about russian housing prices. For me, it still makes much more sense to analyze the data in euro. Because we have a date for each entry which ranges from spring 2018 to early summer 2021, we need different exchange rates from those years. I acquired them from the website of the European Central Bank (https://sdw.ecb.europa.eu/quickview.do?SERIES_KEY=120.EXR.D.RUB.EUR.SP00.A)."
   ],
   "metadata": {
    "collapsed": false
   }
  },
  {
   "cell_type": "code",
   "execution_count": 73,
   "outputs": [],
   "source": [
    "df_exchange = pd.read_csv('amCharts.csv', sep= ';')\n",
    "df_exchange = df_exchange.rename(columns={'s1':'rate'})\n",
    "df_exchange.date = pd.to_datetime(df_exchange.date)\n",
    "df_exchange.date = df_exchange.date.dt.date"
   ],
   "metadata": {
    "collapsed": false
   }
  },
  {
   "cell_type": "markdown",
   "source": [
    "Next up we have to convert the rate to an actual rate, because now it just represents the value of 1 euro in rubel."
   ],
   "metadata": {
    "collapsed": false
   }
  },
  {
   "cell_type": "code",
   "execution_count": 74,
   "outputs": [],
   "source": [
    "df_exchange.rate = 1/df_exchange.rate"
   ],
   "metadata": {
    "collapsed": false
   }
  },
  {
   "cell_type": "markdown",
   "source": [
    "Now we map the exchange rate to the housing price df. After that the price gets transformed to euro, and we drop the rate column again."
   ],
   "metadata": {
    "collapsed": false
   }
  },
  {
   "cell_type": "code",
   "execution_count": 75,
   "outputs": [
    {
     "data": {
      "text/plain": "29093406.87"
     },
     "execution_count": 75,
     "metadata": {},
     "output_type": "execute_result"
    }
   ],
   "source": [
    "df = df.merge(df_exchange, left_on='date', right_on='date')\n",
    "df.price = df.price * df.rate\n",
    "df.price = df.price.round(2)\n",
    "df = df.drop([\"rate\"], axis=1)\n",
    "df.price.max()"
   ],
   "metadata": {
    "collapsed": false
   }
  },
  {
   "cell_type": "markdown",
   "source": [
    "The next step is to calculate the price per square metre. That way we can compare different properties which differ in size."
   ],
   "metadata": {
    "collapsed": false
   }
  },
  {
   "cell_type": "code",
   "execution_count": 76,
   "outputs": [
    {
     "data": {
      "text/plain": "             price        date      time    geo_lat     geo_lon  region  \\\n0         86341.12  2018-02-19  20:00:21  59.805808   30.376141    2661   \n1        125731.31  2018-02-27  12:04:54  55.683807   37.297405      81   \n2         58178.43  2018-02-28  15:44:00  56.295250   44.061637    2871   \n3         26742.30  2018-03-01  11:24:52  44.996132   39.074783    2843   \n4         78781.36  2018-03-01  17:42:43  55.918767   37.984642      81   \n...            ...         ...       ...        ...         ...     ...   \n4082498   49608.21  2021-04-30  23:56:39  59.880305   30.472474    2661   \n4082499  115752.48  2021-04-30  23:56:41  57.567523   39.921776    2604   \n4082500   34174.54  2021-04-30  23:57:33  54.963499   48.265301    2922   \n4082501   48505.80  2021-04-30  23:58:33  50.256918  127.554152    7929   \n4082502  289932.40  2021-04-30  23:58:34  60.012239   30.311457    2661   \n\n        building_type  level  levels  rooms   area  kitchen_area  \\\n0               Panel      8      10      3   82.6          10.8   \n1               Brick      5      24      2   69.1          12.0   \n2               Panel      5       9      3   66.0          10.0   \n3              Blocky     12      16      2   38.0           5.0   \n4               Brick     13      14      2   60.0          10.0   \n...               ...    ...     ...    ...    ...           ...   \n4082498         Panel      1       5      1   31.0           7.4   \n4082499         Brick      7       8      3  119.0          18.0   \n4082500         Brick      1       4      4   99.0           9.0   \n4082501         Panel      5       5      2   46.0           8.0   \n4082502    Monolithic      2      10      2   71.0          27.1   \n\n                          object_type  price_per_square_metre  \n0        Secondary Real Estate Market                 1045.29  \n1        Secondary Real Estate Market                 1819.56  \n2        Secondary Real Estate Market                  881.49  \n3                        New Building                  703.74  \n4        Secondary Real Estate Market                 1313.02  \n...                               ...                     ...  \n4082498  Secondary Real Estate Market                 1600.26  \n4082499                  New Building                  972.71  \n4082500  Secondary Real Estate Market                  345.20  \n4082501  Secondary Real Estate Market                 1054.47  \n4082502  Secondary Real Estate Market                 4083.55  \n\n[4082503 rows x 14 columns]",
      "text/html": "<div>\n<style scoped>\n    .dataframe tbody tr th:only-of-type {\n        vertical-align: middle;\n    }\n\n    .dataframe tbody tr th {\n        vertical-align: top;\n    }\n\n    .dataframe thead th {\n        text-align: right;\n    }\n</style>\n<table border=\"1\" class=\"dataframe\">\n  <thead>\n    <tr style=\"text-align: right;\">\n      <th></th>\n      <th>price</th>\n      <th>date</th>\n      <th>time</th>\n      <th>geo_lat</th>\n      <th>geo_lon</th>\n      <th>region</th>\n      <th>building_type</th>\n      <th>level</th>\n      <th>levels</th>\n      <th>rooms</th>\n      <th>area</th>\n      <th>kitchen_area</th>\n      <th>object_type</th>\n      <th>price_per_square_metre</th>\n    </tr>\n  </thead>\n  <tbody>\n    <tr>\n      <th>0</th>\n      <td>86341.12</td>\n      <td>2018-02-19</td>\n      <td>20:00:21</td>\n      <td>59.805808</td>\n      <td>30.376141</td>\n      <td>2661</td>\n      <td>Panel</td>\n      <td>8</td>\n      <td>10</td>\n      <td>3</td>\n      <td>82.6</td>\n      <td>10.8</td>\n      <td>Secondary Real Estate Market</td>\n      <td>1045.29</td>\n    </tr>\n    <tr>\n      <th>1</th>\n      <td>125731.31</td>\n      <td>2018-02-27</td>\n      <td>12:04:54</td>\n      <td>55.683807</td>\n      <td>37.297405</td>\n      <td>81</td>\n      <td>Brick</td>\n      <td>5</td>\n      <td>24</td>\n      <td>2</td>\n      <td>69.1</td>\n      <td>12.0</td>\n      <td>Secondary Real Estate Market</td>\n      <td>1819.56</td>\n    </tr>\n    <tr>\n      <th>2</th>\n      <td>58178.43</td>\n      <td>2018-02-28</td>\n      <td>15:44:00</td>\n      <td>56.295250</td>\n      <td>44.061637</td>\n      <td>2871</td>\n      <td>Panel</td>\n      <td>5</td>\n      <td>9</td>\n      <td>3</td>\n      <td>66.0</td>\n      <td>10.0</td>\n      <td>Secondary Real Estate Market</td>\n      <td>881.49</td>\n    </tr>\n    <tr>\n      <th>3</th>\n      <td>26742.30</td>\n      <td>2018-03-01</td>\n      <td>11:24:52</td>\n      <td>44.996132</td>\n      <td>39.074783</td>\n      <td>2843</td>\n      <td>Blocky</td>\n      <td>12</td>\n      <td>16</td>\n      <td>2</td>\n      <td>38.0</td>\n      <td>5.0</td>\n      <td>New Building</td>\n      <td>703.74</td>\n    </tr>\n    <tr>\n      <th>4</th>\n      <td>78781.36</td>\n      <td>2018-03-01</td>\n      <td>17:42:43</td>\n      <td>55.918767</td>\n      <td>37.984642</td>\n      <td>81</td>\n      <td>Brick</td>\n      <td>13</td>\n      <td>14</td>\n      <td>2</td>\n      <td>60.0</td>\n      <td>10.0</td>\n      <td>Secondary Real Estate Market</td>\n      <td>1313.02</td>\n    </tr>\n    <tr>\n      <th>...</th>\n      <td>...</td>\n      <td>...</td>\n      <td>...</td>\n      <td>...</td>\n      <td>...</td>\n      <td>...</td>\n      <td>...</td>\n      <td>...</td>\n      <td>...</td>\n      <td>...</td>\n      <td>...</td>\n      <td>...</td>\n      <td>...</td>\n      <td>...</td>\n    </tr>\n    <tr>\n      <th>4082498</th>\n      <td>49608.21</td>\n      <td>2021-04-30</td>\n      <td>23:56:39</td>\n      <td>59.880305</td>\n      <td>30.472474</td>\n      <td>2661</td>\n      <td>Panel</td>\n      <td>1</td>\n      <td>5</td>\n      <td>1</td>\n      <td>31.0</td>\n      <td>7.4</td>\n      <td>Secondary Real Estate Market</td>\n      <td>1600.26</td>\n    </tr>\n    <tr>\n      <th>4082499</th>\n      <td>115752.48</td>\n      <td>2021-04-30</td>\n      <td>23:56:41</td>\n      <td>57.567523</td>\n      <td>39.921776</td>\n      <td>2604</td>\n      <td>Brick</td>\n      <td>7</td>\n      <td>8</td>\n      <td>3</td>\n      <td>119.0</td>\n      <td>18.0</td>\n      <td>New Building</td>\n      <td>972.71</td>\n    </tr>\n    <tr>\n      <th>4082500</th>\n      <td>34174.54</td>\n      <td>2021-04-30</td>\n      <td>23:57:33</td>\n      <td>54.963499</td>\n      <td>48.265301</td>\n      <td>2922</td>\n      <td>Brick</td>\n      <td>1</td>\n      <td>4</td>\n      <td>4</td>\n      <td>99.0</td>\n      <td>9.0</td>\n      <td>Secondary Real Estate Market</td>\n      <td>345.20</td>\n    </tr>\n    <tr>\n      <th>4082501</th>\n      <td>48505.80</td>\n      <td>2021-04-30</td>\n      <td>23:58:33</td>\n      <td>50.256918</td>\n      <td>127.554152</td>\n      <td>7929</td>\n      <td>Panel</td>\n      <td>5</td>\n      <td>5</td>\n      <td>2</td>\n      <td>46.0</td>\n      <td>8.0</td>\n      <td>Secondary Real Estate Market</td>\n      <td>1054.47</td>\n    </tr>\n    <tr>\n      <th>4082502</th>\n      <td>289932.40</td>\n      <td>2021-04-30</td>\n      <td>23:58:34</td>\n      <td>60.012239</td>\n      <td>30.311457</td>\n      <td>2661</td>\n      <td>Monolithic</td>\n      <td>2</td>\n      <td>10</td>\n      <td>2</td>\n      <td>71.0</td>\n      <td>27.1</td>\n      <td>Secondary Real Estate Market</td>\n      <td>4083.55</td>\n    </tr>\n  </tbody>\n</table>\n<p>4082503 rows × 14 columns</p>\n</div>"
     },
     "execution_count": 76,
     "metadata": {},
     "output_type": "execute_result"
    }
   ],
   "source": [
    "df[\"price_per_square_metre\"] = (df[\"price\"]/df[\"area\"]).round(2)\n",
    "df"
   ],
   "metadata": {
    "collapsed": false
   }
  },
  {
   "cell_type": "markdown",
   "source": [
    "For some easier comparison, I decided to add a value that just represents the latitude and longitude. This can be then used as a somewhat key for properties that are listed, although we have to keep in mind that some properties have more than one apartment/unit."
   ],
   "metadata": {
    "collapsed": false
   }
  },
  {
   "cell_type": "markdown",
   "source": [],
   "metadata": {
    "collapsed": false
   }
  },
  {
   "cell_type": "code",
   "execution_count": 77,
   "outputs": [],
   "source": [
    "df['point'] = df[['geo_lat','geo_lon']].apply(lambda row: '-'.join(row.values.astype(str)), axis=1)\n"
   ],
   "metadata": {
    "collapsed": false
   }
  },
  {
   "cell_type": "code",
   "execution_count": 78,
   "outputs": [
    {
     "data": {
      "text/plain": "29093406.87"
     },
     "execution_count": 78,
     "metadata": {},
     "output_type": "execute_result"
    }
   ],
   "source": [
    "df.price.max()"
   ],
   "metadata": {
    "collapsed": false
   }
  },
  {
   "cell_type": "code",
   "execution_count": 79,
   "outputs": [
    {
     "data": {
      "text/plain": "              price       geo_lat       geo_lon        region         level  \\\ncount  4.082503e+06  4.082503e+06  4.082503e+06  4.082503e+06  4.082503e+06   \nmean   5.839654e+04  5.401953e+01  5.291084e+01  4.244222e+03  6.205361e+00   \nstd    1.776038e+05  4.643517e+00  2.056953e+01  3.242760e+03  4.935791e+00   \nmin    1.000000e-02  4.145906e+01  1.990309e+01  3.000000e+00  1.000000e+00   \n25%    2.597995e+04  5.334998e+01  3.778513e+01  2.661000e+03  2.000000e+00   \n50%    3.895195e+04  5.518702e+01  4.299740e+01  2.922000e+03  5.000000e+00   \n75%    6.275826e+04  5.627372e+01  6.556124e+01  6.171000e+03  9.000000e+00   \nmax    2.909341e+07  7.198040e+01  1.625361e+02  6.188800e+04  3.900000e+01   \n\n             levels         rooms          area  kitchen_area  \\\ncount  4.082503e+06  4.082503e+06  4.082503e+06  4.082503e+06   \nmean   1.132971e+01  1.887192e+00  5.504911e+01  1.090842e+01   \nstd    6.539783e+00  8.794488e-01  3.328981e+01  1.062829e+01   \nmin    1.000000e+00  1.000000e+00  7.000000e-02  1.000000e-02   \n25%    5.000000e+00  1.000000e+00  3.920000e+01  7.300000e+00   \n50%    1.000000e+01  2.000000e+00  4.900000e+01  1.000000e+01   \n75%    1.600000e+01  2.000000e+00  6.400000e+01  1.292000e+01   \nmax    3.900000e+01  1.000000e+01  7.856000e+03  9.999000e+03   \n\n       price_per_square_metre  \ncount            4.082503e+06  \nmean             1.023316e+03  \nstd              4.821175e+03  \nmin              0.000000e+00  \n25%              5.603500e+02  \n50%              7.817600e+02  \n75%              1.151160e+03  \nmax              6.875848e+06  ",
      "text/html": "<div>\n<style scoped>\n    .dataframe tbody tr th:only-of-type {\n        vertical-align: middle;\n    }\n\n    .dataframe tbody tr th {\n        vertical-align: top;\n    }\n\n    .dataframe thead th {\n        text-align: right;\n    }\n</style>\n<table border=\"1\" class=\"dataframe\">\n  <thead>\n    <tr style=\"text-align: right;\">\n      <th></th>\n      <th>price</th>\n      <th>geo_lat</th>\n      <th>geo_lon</th>\n      <th>region</th>\n      <th>level</th>\n      <th>levels</th>\n      <th>rooms</th>\n      <th>area</th>\n      <th>kitchen_area</th>\n      <th>price_per_square_metre</th>\n    </tr>\n  </thead>\n  <tbody>\n    <tr>\n      <th>count</th>\n      <td>4.082503e+06</td>\n      <td>4.082503e+06</td>\n      <td>4.082503e+06</td>\n      <td>4.082503e+06</td>\n      <td>4.082503e+06</td>\n      <td>4.082503e+06</td>\n      <td>4.082503e+06</td>\n      <td>4.082503e+06</td>\n      <td>4.082503e+06</td>\n      <td>4.082503e+06</td>\n    </tr>\n    <tr>\n      <th>mean</th>\n      <td>5.839654e+04</td>\n      <td>5.401953e+01</td>\n      <td>5.291084e+01</td>\n      <td>4.244222e+03</td>\n      <td>6.205361e+00</td>\n      <td>1.132971e+01</td>\n      <td>1.887192e+00</td>\n      <td>5.504911e+01</td>\n      <td>1.090842e+01</td>\n      <td>1.023316e+03</td>\n    </tr>\n    <tr>\n      <th>std</th>\n      <td>1.776038e+05</td>\n      <td>4.643517e+00</td>\n      <td>2.056953e+01</td>\n      <td>3.242760e+03</td>\n      <td>4.935791e+00</td>\n      <td>6.539783e+00</td>\n      <td>8.794488e-01</td>\n      <td>3.328981e+01</td>\n      <td>1.062829e+01</td>\n      <td>4.821175e+03</td>\n    </tr>\n    <tr>\n      <th>min</th>\n      <td>1.000000e-02</td>\n      <td>4.145906e+01</td>\n      <td>1.990309e+01</td>\n      <td>3.000000e+00</td>\n      <td>1.000000e+00</td>\n      <td>1.000000e+00</td>\n      <td>1.000000e+00</td>\n      <td>7.000000e-02</td>\n      <td>1.000000e-02</td>\n      <td>0.000000e+00</td>\n    </tr>\n    <tr>\n      <th>25%</th>\n      <td>2.597995e+04</td>\n      <td>5.334998e+01</td>\n      <td>3.778513e+01</td>\n      <td>2.661000e+03</td>\n      <td>2.000000e+00</td>\n      <td>5.000000e+00</td>\n      <td>1.000000e+00</td>\n      <td>3.920000e+01</td>\n      <td>7.300000e+00</td>\n      <td>5.603500e+02</td>\n    </tr>\n    <tr>\n      <th>50%</th>\n      <td>3.895195e+04</td>\n      <td>5.518702e+01</td>\n      <td>4.299740e+01</td>\n      <td>2.922000e+03</td>\n      <td>5.000000e+00</td>\n      <td>1.000000e+01</td>\n      <td>2.000000e+00</td>\n      <td>4.900000e+01</td>\n      <td>1.000000e+01</td>\n      <td>7.817600e+02</td>\n    </tr>\n    <tr>\n      <th>75%</th>\n      <td>6.275826e+04</td>\n      <td>5.627372e+01</td>\n      <td>6.556124e+01</td>\n      <td>6.171000e+03</td>\n      <td>9.000000e+00</td>\n      <td>1.600000e+01</td>\n      <td>2.000000e+00</td>\n      <td>6.400000e+01</td>\n      <td>1.292000e+01</td>\n      <td>1.151160e+03</td>\n    </tr>\n    <tr>\n      <th>max</th>\n      <td>2.909341e+07</td>\n      <td>7.198040e+01</td>\n      <td>1.625361e+02</td>\n      <td>6.188800e+04</td>\n      <td>3.900000e+01</td>\n      <td>3.900000e+01</td>\n      <td>1.000000e+01</td>\n      <td>7.856000e+03</td>\n      <td>9.999000e+03</td>\n      <td>6.875848e+06</td>\n    </tr>\n  </tbody>\n</table>\n</div>"
     },
     "execution_count": 79,
     "metadata": {},
     "output_type": "execute_result"
    }
   ],
   "source": [
    "df.describe()"
   ],
   "metadata": {
    "collapsed": false
   }
  },
  {
   "cell_type": "markdown",
   "source": [
    "Next up, we have still some implausible values in the price. The min value of the price says it is 0.01, which cannot me quite true."
   ],
   "metadata": {
    "collapsed": false
   }
  },
  {
   "cell_type": "code",
   "execution_count": 80,
   "outputs": [
    {
     "data": {
      "text/plain": "0.26"
     },
     "execution_count": 80,
     "metadata": {},
     "output_type": "execute_result"
    }
   ],
   "source": [
    "round((len(df[df.price<df.price.mean()*0.1])/len(df))*100, 2)\n"
   ],
   "metadata": {
    "collapsed": false
   }
  },
  {
   "cell_type": "code",
   "execution_count": 81,
   "outputs": [
    {
     "data": {
      "text/plain": "price                     0\ndate                      0\ntime                      0\ngeo_lat                   0\ngeo_lon                   0\nregion                    0\nbuilding_type             0\nlevel                     0\nlevels                    0\nrooms                     0\narea                      0\nkitchen_area              0\nobject_type               0\nprice_per_square_metre    0\npoint                     0\ndtype: int64"
     },
     "execution_count": 81,
     "metadata": {},
     "output_type": "execute_result"
    }
   ],
   "source": [
    "df.isna().sum()"
   ],
   "metadata": {
    "collapsed": false
   }
  },
  {
   "cell_type": "code",
   "execution_count": 82,
   "outputs": [],
   "source": [
    "df = df[df.price>df.price.mean()*0.1]"
   ],
   "metadata": {
    "collapsed": false
   }
  },
  {
   "cell_type": "markdown",
   "source": [
    " To deal with outliers, I decided to look at the amount of entries that have a price that is only 10% of the overall mean. Since these values only represent 0.26% of the overall entries, I made the decision to drop them. The next outliers we have are the maximum prices, which are way over 75% of the prices. This seems to be plausible since there are always more expensive homes. We should look at how much are over half million euros and thus be categorized as expensive estate.\n",
    "\n",
    "Also, I made an export of the csv at this point because I used the cleansed data to create a dashboard."
   ],
   "metadata": {
    "collapsed": false
   }
  },
  {
   "cell_type": "code",
   "execution_count": 83,
   "outputs": [],
   "source": [
    "df.to_csv(\"cleaned_housing_price.csv\")"
   ],
   "metadata": {
    "collapsed": false
   }
  },
  {
   "cell_type": "code",
   "execution_count": 84,
   "outputs": [
    {
     "data": {
      "text/plain": "18.37"
     },
     "execution_count": 84,
     "metadata": {},
     "output_type": "execute_result"
    }
   ],
   "source": [
    "round((len(df[(df.price>75000) & (df.price<500000)])/len(df))*100, 2)"
   ],
   "metadata": {
    "collapsed": false
   }
  },
  {
   "cell_type": "markdown",
   "source": [
    "0.29% isn't really much, and we drop them out of the df. Instead of deleting them completely, I put them in a separated df for further analysis."
   ],
   "metadata": {
    "collapsed": false
   }
  },
  {
   "cell_type": "code",
   "execution_count": 85,
   "outputs": [],
   "source": [
    "df_expensive = df[df.price>500000]"
   ],
   "metadata": {
    "collapsed": false
   }
  },
  {
   "cell_type": "code",
   "execution_count": 86,
   "outputs": [],
   "source": [
    "df = df[df.price<500000]"
   ],
   "metadata": {
    "collapsed": false
   }
  },
  {
   "cell_type": "code",
   "execution_count": 87,
   "outputs": [
    {
     "data": {
      "text/plain": "948672"
     },
     "execution_count": 87,
     "metadata": {},
     "output_type": "execute_result"
    }
   ],
   "source": [
    "len(df[df.price>65000])"
   ],
   "metadata": {
    "collapsed": false
   }
  },
  {
   "cell_type": "markdown",
   "source": [
    "This should finish up the data preparation phase.\n",
    "\n",
    "## 3. Exploratory Data Analysis (EDA)\n",
    "Next we're going to get better insight in the data by doing an EDA. First we start by answering basic questions like what building type is the most expensive, which areas are more expensive, are there different square metre prices between regions, years, seasons, etc.\n",
    "\n",
    "Let's start with getting a description of the price  grouped by the `building_type`."
   ],
   "metadata": {
    "collapsed": false
   }
  },
  {
   "cell_type": "code",
   "execution_count": 88,
   "outputs": [
    {
     "data": {
      "text/plain": "                   count          mean           std      min        25%  \\\nbuilding_type                                                              \nMonolithic      817430.0  81169.616412  66205.707591  5892.43  40162.630   \nOther           235039.0  60891.979687  48028.060484  5859.37  34040.580   \nBrick          1438536.0  49267.366377  44868.616613  5839.89  24809.660   \nBlocky          131363.0  44657.787928  32247.704030  5864.24  25260.885   \nPanel          1421672.0  42139.319493  31986.373719  5839.89  22912.390   \nWooden           11246.0  26308.108265  31181.835727  5852.33  11035.300   \n\n                    50%        75%        max  \nbuilding_type                                  \nMonolithic     60163.00  96927.595  499956.40  \nOther          48004.01  70687.000  499966.22  \nBrick          36657.71  56308.950  499964.28  \nBlocky         35652.87  52457.860  498440.59  \nPanel          32238.31  48569.180  499773.86  \nWooden         16842.32  28180.950  498830.44  ",
      "text/html": "<div>\n<style scoped>\n    .dataframe tbody tr th:only-of-type {\n        vertical-align: middle;\n    }\n\n    .dataframe tbody tr th {\n        vertical-align: top;\n    }\n\n    .dataframe thead th {\n        text-align: right;\n    }\n</style>\n<table border=\"1\" class=\"dataframe\">\n  <thead>\n    <tr style=\"text-align: right;\">\n      <th></th>\n      <th>count</th>\n      <th>mean</th>\n      <th>std</th>\n      <th>min</th>\n      <th>25%</th>\n      <th>50%</th>\n      <th>75%</th>\n      <th>max</th>\n    </tr>\n    <tr>\n      <th>building_type</th>\n      <th></th>\n      <th></th>\n      <th></th>\n      <th></th>\n      <th></th>\n      <th></th>\n      <th></th>\n      <th></th>\n    </tr>\n  </thead>\n  <tbody>\n    <tr>\n      <th>Monolithic</th>\n      <td>817430.0</td>\n      <td>81169.616412</td>\n      <td>66205.707591</td>\n      <td>5892.43</td>\n      <td>40162.630</td>\n      <td>60163.00</td>\n      <td>96927.595</td>\n      <td>499956.40</td>\n    </tr>\n    <tr>\n      <th>Other</th>\n      <td>235039.0</td>\n      <td>60891.979687</td>\n      <td>48028.060484</td>\n      <td>5859.37</td>\n      <td>34040.580</td>\n      <td>48004.01</td>\n      <td>70687.000</td>\n      <td>499966.22</td>\n    </tr>\n    <tr>\n      <th>Brick</th>\n      <td>1438536.0</td>\n      <td>49267.366377</td>\n      <td>44868.616613</td>\n      <td>5839.89</td>\n      <td>24809.660</td>\n      <td>36657.71</td>\n      <td>56308.950</td>\n      <td>499964.28</td>\n    </tr>\n    <tr>\n      <th>Blocky</th>\n      <td>131363.0</td>\n      <td>44657.787928</td>\n      <td>32247.704030</td>\n      <td>5864.24</td>\n      <td>25260.885</td>\n      <td>35652.87</td>\n      <td>52457.860</td>\n      <td>498440.59</td>\n    </tr>\n    <tr>\n      <th>Panel</th>\n      <td>1421672.0</td>\n      <td>42139.319493</td>\n      <td>31986.373719</td>\n      <td>5839.89</td>\n      <td>22912.390</td>\n      <td>32238.31</td>\n      <td>48569.180</td>\n      <td>499773.86</td>\n    </tr>\n    <tr>\n      <th>Wooden</th>\n      <td>11246.0</td>\n      <td>26308.108265</td>\n      <td>31181.835727</td>\n      <td>5852.33</td>\n      <td>11035.300</td>\n      <td>16842.32</td>\n      <td>28180.950</td>\n      <td>498830.44</td>\n    </tr>\n  </tbody>\n</table>\n</div>"
     },
     "execution_count": 88,
     "metadata": {},
     "output_type": "execute_result"
    }
   ],
   "source": [
    "df.groupby(['building_type'])['price'].describe().sort_values('mean', ascending=False)"
   ],
   "metadata": {
    "collapsed": false
   }
  },
  {
   "cell_type": "markdown",
   "source": [
    "Compared by the mean, the monolithic building type is the most expensive. The wooden building type is the cheapest. The building type other is on the second place.  Brick, Blocky and Panel are in the middle. Those buildings are represented the most as well. This makes sense since they are the most common building types in Russia. The wooden building type is the least common building type, but it is still the cheapest. This could be because the wooden building type is the oldest building type and therefore the cheapest. The other building types are newer and therefore more expensive."
   ],
   "metadata": {
    "collapsed": false
   }
  },
  {
   "cell_type": "code",
   "execution_count": 96,
   "outputs": [],
   "source": [
    "#filter the data for all buildings in a 100km radius around Moscow and all other buildings based on geo_lat and geo_lon\n",
    "df_moscow = df[(df.geo_lat>55.5) & (df.geo_lat<56.5) & (df.geo_lon>36.5) & (df.geo_lon<38.5)]\n",
    "df_other = df[(df.geo_lat<55.5) | (df.geo_lat>56.5) | (df.geo_lon<36.5) | (df.geo_lon>38.5)]"
   ],
   "metadata": {
    "collapsed": false
   }
  },
  {
   "cell_type": "markdown",
   "source": [
    "Next up compare a region, since the location can influence the price as well."
   ],
   "metadata": {
    "collapsed": false
   }
  },
  {
   "cell_type": "code",
   "execution_count": 97,
   "outputs": [
    {
     "data": {
      "text/plain": "<Figure size 1000x500 with 1 Axes>",
      "image/png": "[encoded data removed]"
     },
     "metadata": {},
     "output_type": "display_data"
    }
   ],
   "source": [
    "# bar plot the overall average price per square metre for df_moscow and df_other\n",
    "plt.figure(figsize=(10,5))\n",
    "sns.barplot(x=['Moscow', 'Other'], y=[df_moscow.price_per_square_metre.mean(), df_other.price_per_square_metre.mean()])\n",
    "plt.title('Average price per square metre in Moscow and other regions')\n",
    "plt.xlabel('Region')\n",
    "plt.ylabel('Price per square metre')\n",
    "plt.show()\n"
   ],
   "metadata": {
    "collapsed": false
   }
  },
  {
   "cell_type": "markdown",
   "source": [
    " We can see that the average price per square metre in Moscow is 2.5 times higher than in other regions. This is probably because of the high demand for housing in Moscow. The supply is limited, and the prices are high. In other regions, the supply is higher, and the prices are lower. Since moscow is by far the biggest city I took a look at the top 5 cities with the most entries."
   ],
   "metadata": {
    "collapsed": false
   }
  },
  {
   "cell_type": "code",
   "execution_count": null,
   "outputs": [],
   "source": [
    "# bar plot the overall average price per square metre for the top 10 cities\n",
    "plt.figure(figsize=(10,5))\n"
   ],
   "metadata": {
    "collapsed": false
   }
  },
  {
   "cell_type": "code",
   "execution_count": 107,
   "outputs": [],
   "source": [
    "df_st_petersburg = df[(df.geo_lat>59.5) & (df.geo_lat<60.5) & (df.geo_lon>29.5) & (df.geo_lon<31.5)]\n",
    "df_novosibirsk = df[(df.geo_lat>54.5) & (df.geo_lat<55.5) & (df.geo_lon>82.5) & (df.geo_lon<83.5)]\n",
    "df_ekaterinburg = df[(df.geo_lat>56.5) & (df.geo_lat<57.5) & (df.geo_lon>58.5) & (df.geo_lon<59.5)]\n",
    "df_nizhny_novgorod = df[(df.geo_lat>56.5) & (df.geo_lat<57.5) & (df.geo_lon>43.5) & (df.geo_lon<44.5)]\n",
    "#create a df without the top 5 cities df\n",
    "df_without_top_5_cities = df[(df.geo_lat<59.5) | (df.geo_lat>60.5) | (df.geo_lon<29.5) | (df.geo_lon>31.5) & (df.geo_lat<54.5) | (df.geo_lat>55.5) | (df.geo_lon<82.5) | (df.geo_lon>83.5) & (df.geo_lat<56.5) | (df.geo_lat>57.5) | (df.geo_lon<58.5) | (df.geo_lon>59.5) & (df.geo_lat<56.5) | (df.geo_lat>57.5) | (df.geo_lon<43.5) | (df.geo_lon>44.5)]"
   ],
   "metadata": {
    "collapsed": false
   }
  },
  {
   "cell_type": "code",
   "execution_count": 111,
   "outputs": [
    {
     "data": {
      "text/plain": "<Figure size 1000x500 with 1 Axes>",
      "image/png": "[encoded data removed]"
     },
     "metadata": {},
     "output_type": "display_data"
    }
   ],
   "source": [
    "#plot the average price per square metre for the top 5 cities and other and order them descanding\n",
    "plt.figure(figsize=(10,5))\n",
    "sns.barplot(x=['Moscow','St. Petersburg', 'Novosibirsk', 'Ekaterinburg', 'Nizhny Novgorod', 'Other'], y=[df_moscow.price_per_square_metre.mean(),df_st_petersburg.price_per_square_metre.mean(), df_novosibirsk.price_per_square_metre.mean(), df_ekaterinburg.price_per_square_metre.mean(), df_nizhny_novgorod.price_per_square_metre.mean(), df_without_top_5_cities.price_per_square_metre.mean()])\n",
    "plt.title('Average price in euro per square metre in the top 5 cities and other regions')\n",
    "plt.xlabel('Region')\n",
    "plt.ylabel('Price per square metre')\n",
    "#show values on the plot\n",
    "for index, value in enumerate([df_moscow.price_per_square_metre.mean(),df_st_petersburg.price_per_square_metre.mean(), df_novosibirsk.price_per_square_metre.mean(), df_ekaterinburg.price_per_square_metre.mean(), df_nizhny_novgorod.price_per_square_metre.mean(), df_without_top_5_cities.price_per_square_metre.mean()]):\n",
    "    plt.text(index, value, round(value,2), horizontalalignment='center', verticalalignment='bottom')\n",
    "plt.show()\n"
   ],
   "metadata": {
    "collapsed": false
   }
  },
  {
   "cell_type": "markdown",
   "source": [
    "By comparing the five biggest city that only the capital and St. Petersburg have a higher price per square metre than the other regions. The other 3 cities have lower prices than the other regions. So it is safe to say that region does matter for the price per square metre, but it is not by the size of the city. The size of the city is not the only factor that influences the price per square metre. Since we know that the building type heavily influences the price per square metre, I decided to take a look at the building type of the top 5 cities."
   ],
   "metadata": {
    "collapsed": false
   }
  },
  {
   "cell_type": "code",
   "execution_count": 121,
   "outputs": [],
   "source": [],
   "metadata": {
    "collapsed": false
   }
  },
  {
   "cell_type": "markdown",
   "source": [
    "## 4. Modelling\n",
    "For the modelling phase I decided to use a basic Linear Regression Model at first."
   ],
   "metadata": {
    "collapsed": false
   }
  },
  {
   "cell_type": "code",
   "execution_count": null,
   "outputs": [],
   "source": [
    "df"
   ],
   "metadata": {
    "collapsed": false
   }
  },
  {
   "cell_type": "code",
   "execution_count": null,
   "outputs": [],
   "source": [],
   "metadata": {
    "collapsed": false
   }
  },
  {
   "cell_type": "code",
   "execution_count": null,
   "outputs": [],
   "source": [],
   "metadata": {
    "collapsed": false
   }
  }
 ],
 "metadata": {
  "kernelspec": {
   "display_name": "Python 3 (ipykernel)",
   "language": "python",
   "name": "python3"
  },
  "language_info": {
   "codemirror_mode": {
    "name": "ipython",
    "version": 3
   },
   "file_extension": ".py",
   "mimetype": "text/x-python",
   "name": "python",
   "nbconvert_exporter": "python",
   "pygments_lexer": "ipython3",
   "version": "3.9.7"
  }
 },
 "nbformat": 4,
 "nbformat_minor": 5
}
