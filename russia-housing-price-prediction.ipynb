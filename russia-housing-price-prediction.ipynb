{
 "cells": [
  {
   "cell_type": "markdown",
   "id": "cd442f8d",
   "metadata": {},
   "source": [
    "\n",
    "# Analyze \"Russia Housing Prices\" and predicting them\n",
    "\n",
    "The goal with the given dataset is to use the data to make a prediction-model after doing an EDA. To achieve this I first come up with some questions I want to answer. Furthermore, I will be using a CRISP-DM like process to get from the EDA to the prediction-model.\n",
    "\n",
    "## 1. Business Understanding\n",
    "\n",
    "This phase is used to generate the questions I want to answer. These are the following:\n",
    "1. Are there some places listed more than once in the period of time provided?\n",
    "2. What is the average price per m²? What regions have the highest average?\n",
    "3. How did the prices change over the years?\n",
    "\n",
    "Other than answering these questions, the goal is also to predict the prices with a fitting ML-Algorithm.\n",
    "\n",
    "\n",
    "## 2. Data Understanding\n",
    " For the data understanding the best thing is to use the description of the kaggle-side where the data is from (https://www.kaggle.com/datasets/mrdaniilak/russia-real-estate-20182021). This saves quite some time.\n",
    "\n",
    "The dataset has 13 fields. Each row contains data about an ad for real estate in russia.\n",
    "\n",
    "- **date**: date of publication of the announcement.\n",
    "- **time**: the time when the ad was published.\n",
    "- **geo_lat**: Latitude.\n",
    "- **geo_lon**: Longitude.\n",
    "- **region**: Region of Russia. There are 85 subjects in the country in total.\n",
    "- **building_type**: Facade type. 0 - Other. 1 - Panel. 2 - Monolithic. 3 - Brick. 4 - Blocky. 5 - Wooden.\n",
    "- **object_type**: Apartment type. 1 - Secondary real estate market; 2 - New building;.\n",
    "- **level**: Apartment floor.\n",
    "- **levels**: Number of storeys.\n",
    "- **rooms**: the number of living rooms. If the value is \"-1\", then it means \"studio apartment\".\n",
    "- **area**: the total area of the apartment in m².\n",
    "- **kitchen_area**: - Kitchen area in m².\n",
    "- **price**: Price in rubles.\n"
   ]
  },
  {
   "cell_type": "code",
   "execution_count": 45,
   "outputs": [],
   "source": [
    "import dateutil.utils\n",
    "import pandas as pd\n",
    "import matplotlib.pyplot as plt\n",
    "import seaborn as sns\n",
    "from datetime import date\n",
    "from currency_converter import CurrencyConverter\n",
    "c = CurrencyConverter()\n",
    "\n",
    "import warnings\n",
    "warnings.filterwarnings('ignore')\n",
    "\n"
   ],
   "metadata": {
    "collapsed": false
   }
  },
  {
   "cell_type": "code",
   "execution_count": 46,
   "outputs": [],
   "source": [
    "df = pd.read_csv('all_v2.csv')\n",
    "df.date = pd.to_datetime(df.date)\n",
    "df.date = df.date.dt.date\n",
    "temp = pd.to_datetime(df.time, format='%H:%M:%S').apply(lambda d : d.time())\n",
    "df.time = temp"
   ],
   "metadata": {
    "collapsed": false
   }
  },
  {
   "cell_type": "code",
   "execution_count": 47,
   "outputs": [
    {
     "data": {
      "text/plain": "            price        date      time    geo_lat    geo_lon  region  \\\n0         6050000  2018-02-19  20:00:21  59.805808  30.376141    2661   \n1         8650000  2018-02-27  12:04:54  55.683807  37.297405      81   \n2         4000000  2018-02-28  15:44:00  56.295250  44.061637    2871   \n3         1850000  2018-03-01  11:24:52  44.996132  39.074783    2843   \n4         5450000  2018-03-01  17:42:43  55.918767  37.984642      81   \n...           ...         ...       ...        ...        ...     ...   \n5477001  19739760  2021-05-01  20:13:58  55.804736  37.750898       3   \n5477002  12503160  2021-05-01  20:14:01  55.841415  37.489624       3   \n5477003   8800000  2021-05-01  20:14:04  56.283909  44.075408    2871   \n5477004  11831910  2021-05-01  20:14:12  55.804736  37.750898       3   \n5477005  13316200  2021-05-01  20:14:15  55.860240  37.540356       3   \n\n         building_type  level  levels  rooms  area  kitchen_area  object_type  \n0                    1      8      10      3  82.6          10.8            1  \n1                    3      5      24      2  69.1          12.0            1  \n2                    1      5       9      3  66.0          10.0            1  \n3                    4     12      16      2  38.0           5.0           11  \n4                    3     13      14      2  60.0          10.0            1  \n...                ...    ...     ...    ...   ...           ...          ...  \n5477001              1      8      17      4  93.2          13.8           11  \n5477002              2     17      32      2  45.9           6.6           11  \n5477003              2      4      17      3  86.5          11.8            1  \n5477004              1      8      33      2  52.1          18.9           11  \n5477005              2     10      23      2  55.6          20.8           11  \n\n[5477006 rows x 13 columns]",
      "text/html": "<div>\n<style scoped>\n    .dataframe tbody tr th:only-of-type {\n        vertical-align: middle;\n    }\n\n    .dataframe tbody tr th {\n        vertical-align: top;\n    }\n\n    .dataframe thead th {\n        text-align: right;\n    }\n</style>\n<table border=\"1\" class=\"dataframe\">\n  <thead>\n    <tr style=\"text-align: right;\">\n      <th></th>\n      <th>price</th>\n      <th>date</th>\n      <th>time</th>\n      <th>geo_lat</th>\n      <th>geo_lon</th>\n      <th>region</th>\n      <th>building_type</th>\n      <th>level</th>\n      <th>levels</th>\n      <th>rooms</th>\n      <th>area</th>\n      <th>kitchen_area</th>\n      <th>object_type</th>\n    </tr>\n  </thead>\n  <tbody>\n    <tr>\n      <th>0</th>\n      <td>6050000</td>\n      <td>2018-02-19</td>\n      <td>20:00:21</td>\n      <td>59.805808</td>\n      <td>30.376141</td>\n      <td>2661</td>\n      <td>1</td>\n      <td>8</td>\n      <td>10</td>\n      <td>3</td>\n      <td>82.6</td>\n      <td>10.8</td>\n      <td>1</td>\n    </tr>\n    <tr>\n      <th>1</th>\n      <td>8650000</td>\n      <td>2018-02-27</td>\n      <td>12:04:54</td>\n      <td>55.683807</td>\n      <td>37.297405</td>\n      <td>81</td>\n      <td>3</td>\n      <td>5</td>\n      <td>24</td>\n      <td>2</td>\n      <td>69.1</td>\n      <td>12.0</td>\n      <td>1</td>\n    </tr>\n    <tr>\n      <th>2</th>\n      <td>4000000</td>\n      <td>2018-02-28</td>\n      <td>15:44:00</td>\n      <td>56.295250</td>\n      <td>44.061637</td>\n      <td>2871</td>\n      <td>1</td>\n      <td>5</td>\n      <td>9</td>\n      <td>3</td>\n      <td>66.0</td>\n      <td>10.0</td>\n      <td>1</td>\n    </tr>\n    <tr>\n      <th>3</th>\n      <td>1850000</td>\n      <td>2018-03-01</td>\n      <td>11:24:52</td>\n      <td>44.996132</td>\n      <td>39.074783</td>\n      <td>2843</td>\n      <td>4</td>\n      <td>12</td>\n      <td>16</td>\n      <td>2</td>\n      <td>38.0</td>\n      <td>5.0</td>\n      <td>11</td>\n    </tr>\n    <tr>\n      <th>4</th>\n      <td>5450000</td>\n      <td>2018-03-01</td>\n      <td>17:42:43</td>\n      <td>55.918767</td>\n      <td>37.984642</td>\n      <td>81</td>\n      <td>3</td>\n      <td>13</td>\n      <td>14</td>\n      <td>2</td>\n      <td>60.0</td>\n      <td>10.0</td>\n      <td>1</td>\n    </tr>\n    <tr>\n      <th>...</th>\n      <td>...</td>\n      <td>...</td>\n      <td>...</td>\n      <td>...</td>\n      <td>...</td>\n      <td>...</td>\n      <td>...</td>\n      <td>...</td>\n      <td>...</td>\n      <td>...</td>\n      <td>...</td>\n      <td>...</td>\n      <td>...</td>\n    </tr>\n    <tr>\n      <th>5477001</th>\n      <td>19739760</td>\n      <td>2021-05-01</td>\n      <td>20:13:58</td>\n      <td>55.804736</td>\n      <td>37.750898</td>\n      <td>3</td>\n      <td>1</td>\n      <td>8</td>\n      <td>17</td>\n      <td>4</td>\n      <td>93.2</td>\n      <td>13.8</td>\n      <td>11</td>\n    </tr>\n    <tr>\n      <th>5477002</th>\n      <td>12503160</td>\n      <td>2021-05-01</td>\n      <td>20:14:01</td>\n      <td>55.841415</td>\n      <td>37.489624</td>\n      <td>3</td>\n      <td>2</td>\n      <td>17</td>\n      <td>32</td>\n      <td>2</td>\n      <td>45.9</td>\n      <td>6.6</td>\n      <td>11</td>\n    </tr>\n    <tr>\n      <th>5477003</th>\n      <td>8800000</td>\n      <td>2021-05-01</td>\n      <td>20:14:04</td>\n      <td>56.283909</td>\n      <td>44.075408</td>\n      <td>2871</td>\n      <td>2</td>\n      <td>4</td>\n      <td>17</td>\n      <td>3</td>\n      <td>86.5</td>\n      <td>11.8</td>\n      <td>1</td>\n    </tr>\n    <tr>\n      <th>5477004</th>\n      <td>11831910</td>\n      <td>2021-05-01</td>\n      <td>20:14:12</td>\n      <td>55.804736</td>\n      <td>37.750898</td>\n      <td>3</td>\n      <td>1</td>\n      <td>8</td>\n      <td>33</td>\n      <td>2</td>\n      <td>52.1</td>\n      <td>18.9</td>\n      <td>11</td>\n    </tr>\n    <tr>\n      <th>5477005</th>\n      <td>13316200</td>\n      <td>2021-05-01</td>\n      <td>20:14:15</td>\n      <td>55.860240</td>\n      <td>37.540356</td>\n      <td>3</td>\n      <td>2</td>\n      <td>10</td>\n      <td>23</td>\n      <td>2</td>\n      <td>55.6</td>\n      <td>20.8</td>\n      <td>11</td>\n    </tr>\n  </tbody>\n</table>\n<p>5477006 rows × 13 columns</p>\n</div>"
     },
     "execution_count": 47,
     "metadata": {},
     "output_type": "execute_result"
    }
   ],
   "source": [
    "df"
   ],
   "metadata": {
    "collapsed": false
   }
  },
  {
   "cell_type": "code",
   "execution_count": 48,
   "outputs": [
    {
     "data": {
      "text/plain": "              price       geo_lat       geo_lon        region  building_type  \\\ncount  5.477006e+06  5.477006e+06  5.477006e+06  5.477006e+06   5.477006e+06   \nmean   4.422029e+06  5.403826e+01  5.324433e+01  4.307141e+03   1.948966e+00   \nstd    2.150752e+07  4.622758e+00  2.074763e+01  3.308050e+03   1.038537e+00   \nmin   -2.144967e+09  4.145906e+01  1.989020e+01  3.000000e+00   0.000000e+00   \n25%    1.950000e+06  5.337768e+01  3.777790e+01  2.661000e+03   1.000000e+00   \n50%    2.990000e+06  5.517139e+01  4.306774e+01  2.922000e+03   2.000000e+00   \n75%    4.802000e+06  5.622613e+01  6.564895e+01  6.171000e+03   3.000000e+00   \nmax    2.147484e+09  7.198040e+01  1.625361e+02  6.188800e+04   5.000000e+00   \n\n              level        levels         rooms          area  kitchen_area  \\\ncount  5.477006e+06  5.477006e+06  5.477006e+06  5.477006e+06  5.477006e+06   \nmean   6.214530e+00  1.139892e+01  1.726173e+00  5.391825e+01  1.062840e+01   \nstd    4.957419e+00  6.535734e+00  1.082133e+00  3.335293e+01  9.792380e+00   \nmin    1.000000e+00  1.000000e+00 -2.000000e+00  7.000000e-02  1.000000e-02   \n25%    2.000000e+00  5.000000e+00  1.000000e+00  3.800000e+01  7.000000e+00   \n50%    5.000000e+00  1.000000e+01  2.000000e+00  4.802000e+01  9.700000e+00   \n75%    9.000000e+00  1.600000e+01  2.000000e+00  6.313000e+01  1.270000e+01   \nmax    3.900000e+01  3.900000e+01  1.000000e+01  7.856000e+03  9.999000e+03   \n\n        object_type  \ncount  5.477006e+06  \nmean   3.945399e+00  \nstd    4.558357e+00  \nmin    1.000000e+00  \n25%    1.000000e+00  \n50%    1.000000e+00  \n75%    1.100000e+01  \nmax    1.100000e+01  ",
      "text/html": "<div>\n<style scoped>\n    .dataframe tbody tr th:only-of-type {\n        vertical-align: middle;\n    }\n\n    .dataframe tbody tr th {\n        vertical-align: top;\n    }\n\n    .dataframe thead th {\n        text-align: right;\n    }\n</style>\n<table border=\"1\" class=\"dataframe\">\n  <thead>\n    <tr style=\"text-align: right;\">\n      <th></th>\n      <th>price</th>\n      <th>geo_lat</th>\n      <th>geo_lon</th>\n      <th>region</th>\n      <th>building_type</th>\n      <th>level</th>\n      <th>levels</th>\n      <th>rooms</th>\n      <th>area</th>\n      <th>kitchen_area</th>\n      <th>object_type</th>\n    </tr>\n  </thead>\n  <tbody>\n    <tr>\n      <th>count</th>\n      <td>5.477006e+06</td>\n      <td>5.477006e+06</td>\n      <td>5.477006e+06</td>\n      <td>5.477006e+06</td>\n      <td>5.477006e+06</td>\n      <td>5.477006e+06</td>\n      <td>5.477006e+06</td>\n      <td>5.477006e+06</td>\n      <td>5.477006e+06</td>\n      <td>5.477006e+06</td>\n      <td>5.477006e+06</td>\n    </tr>\n    <tr>\n      <th>mean</th>\n      <td>4.422029e+06</td>\n      <td>5.403826e+01</td>\n      <td>5.324433e+01</td>\n      <td>4.307141e+03</td>\n      <td>1.948966e+00</td>\n      <td>6.214530e+00</td>\n      <td>1.139892e+01</td>\n      <td>1.726173e+00</td>\n      <td>5.391825e+01</td>\n      <td>1.062840e+01</td>\n      <td>3.945399e+00</td>\n    </tr>\n    <tr>\n      <th>std</th>\n      <td>2.150752e+07</td>\n      <td>4.622758e+00</td>\n      <td>2.074763e+01</td>\n      <td>3.308050e+03</td>\n      <td>1.038537e+00</td>\n      <td>4.957419e+00</td>\n      <td>6.535734e+00</td>\n      <td>1.082133e+00</td>\n      <td>3.335293e+01</td>\n      <td>9.792380e+00</td>\n      <td>4.558357e+00</td>\n    </tr>\n    <tr>\n      <th>min</th>\n      <td>-2.144967e+09</td>\n      <td>4.145906e+01</td>\n      <td>1.989020e+01</td>\n      <td>3.000000e+00</td>\n      <td>0.000000e+00</td>\n      <td>1.000000e+00</td>\n      <td>1.000000e+00</td>\n      <td>-2.000000e+00</td>\n      <td>7.000000e-02</td>\n      <td>1.000000e-02</td>\n      <td>1.000000e+00</td>\n    </tr>\n    <tr>\n      <th>25%</th>\n      <td>1.950000e+06</td>\n      <td>5.337768e+01</td>\n      <td>3.777790e+01</td>\n      <td>2.661000e+03</td>\n      <td>1.000000e+00</td>\n      <td>2.000000e+00</td>\n      <td>5.000000e+00</td>\n      <td>1.000000e+00</td>\n      <td>3.800000e+01</td>\n      <td>7.000000e+00</td>\n      <td>1.000000e+00</td>\n    </tr>\n    <tr>\n      <th>50%</th>\n      <td>2.990000e+06</td>\n      <td>5.517139e+01</td>\n      <td>4.306774e+01</td>\n      <td>2.922000e+03</td>\n      <td>2.000000e+00</td>\n      <td>5.000000e+00</td>\n      <td>1.000000e+01</td>\n      <td>2.000000e+00</td>\n      <td>4.802000e+01</td>\n      <td>9.700000e+00</td>\n      <td>1.000000e+00</td>\n    </tr>\n    <tr>\n      <th>75%</th>\n      <td>4.802000e+06</td>\n      <td>5.622613e+01</td>\n      <td>6.564895e+01</td>\n      <td>6.171000e+03</td>\n      <td>3.000000e+00</td>\n      <td>9.000000e+00</td>\n      <td>1.600000e+01</td>\n      <td>2.000000e+00</td>\n      <td>6.313000e+01</td>\n      <td>1.270000e+01</td>\n      <td>1.100000e+01</td>\n    </tr>\n    <tr>\n      <th>max</th>\n      <td>2.147484e+09</td>\n      <td>7.198040e+01</td>\n      <td>1.625361e+02</td>\n      <td>6.188800e+04</td>\n      <td>5.000000e+00</td>\n      <td>3.900000e+01</td>\n      <td>3.900000e+01</td>\n      <td>1.000000e+01</td>\n      <td>7.856000e+03</td>\n      <td>9.999000e+03</td>\n      <td>1.100000e+01</td>\n    </tr>\n  </tbody>\n</table>\n</div>"
     },
     "execution_count": 48,
     "metadata": {},
     "output_type": "execute_result"
    }
   ],
   "source": [
    "df.describe(datetime_is_numeric=True)"
   ],
   "metadata": {
    "collapsed": false
   }
  },
  {
   "cell_type": "code",
   "execution_count": 49,
   "outputs": [
    {
     "data": {
      "text/plain": "1     3863809\n11    1613197\nName: object_type, dtype: int64"
     },
     "execution_count": 49,
     "metadata": {},
     "output_type": "execute_result"
    }
   ],
   "source": [
    "df.object_type.value_counts()"
   ],
   "metadata": {
    "collapsed": false
   }
  },
  {
   "cell_type": "code",
   "execution_count": 50,
   "outputs": [
    {
     "data": {
      "text/plain": "price            0\ndate             0\ntime             0\ngeo_lat          0\ngeo_lon          0\nregion           0\nbuilding_type    0\nlevel            0\nlevels           0\nrooms            0\narea             0\nkitchen_area     0\nobject_type      0\ndtype: int64"
     },
     "execution_count": 50,
     "metadata": {},
     "output_type": "execute_result"
    }
   ],
   "source": [
    "df.isnull().sum()"
   ],
   "metadata": {
    "collapsed": false
   }
  },
  {
   "cell_type": "markdown",
   "source": [],
   "metadata": {
    "collapsed": false
   }
  },
  {
   "cell_type": "code",
   "execution_count": 51,
   "outputs": [
    {
     "name": "stdout",
     "output_type": "stream",
     "text": [
      "<class 'pandas.core.frame.DataFrame'>\n",
      "RangeIndex: 5477006 entries, 0 to 5477005\n",
      "Data columns (total 13 columns):\n",
      " #   Column         Dtype  \n",
      "---  ------         -----  \n",
      " 0   price          int64  \n",
      " 1   date           object \n",
      " 2   time           object \n",
      " 3   geo_lat        float64\n",
      " 4   geo_lon        float64\n",
      " 5   region         int64  \n",
      " 6   building_type  int64  \n",
      " 7   level          int64  \n",
      " 8   levels         int64  \n",
      " 9   rooms          int64  \n",
      " 10  area           float64\n",
      " 11  kitchen_area   float64\n",
      " 12  object_type    int64  \n",
      "dtypes: float64(4), int64(7), object(2)\n",
      "memory usage: 543.2+ MB\n"
     ]
    }
   ],
   "source": [
    "df.info()"
   ],
   "metadata": {
    "collapsed": false
   }
  },
  {
   "cell_type": "markdown",
   "source": [
    "With the code blocks above, we can measure the data quality:\n",
    "- **Correctness**: The data is not entirely correct since we got e.g. prices that are negative and object_type seems not to be quite correct since they do not match with the given description. These can be fixed in the data preparation phase.\n",
    "- **Completeness**: The data seems to be complete.\n",
    "- **Redundancy**: For now I cannot spot any redundancies."
   ],
   "metadata": {
    "collapsed": false
   }
  },
  {
   "cell_type": "markdown",
   "source": [
    "## 3. Data Preparation\n",
    "\n",
    "After spotting some flaws in the data understanding phase, we tackle those in the upcoming phase. The first thing to be done is deleting the negative prices and replacing the 11 with 2 in the `object_type`."
   ],
   "metadata": {
    "collapsed": false
   }
  },
  {
   "cell_type": "code",
   "execution_count": 52,
   "outputs": [],
   "source": [
    "df = df[df.price>0]"
   ],
   "metadata": {
    "collapsed": false
   }
  },
  {
   "cell_type": "code",
   "execution_count": 53,
   "outputs": [],
   "source": [
    "df.object_type = df.object_type.replace(11, 2)"
   ],
   "metadata": {
    "collapsed": false
   }
  },
  {
   "cell_type": "code",
   "execution_count": 54,
   "outputs": [
    {
     "data": {
      "text/plain": "array([1, 2], dtype=int64)"
     },
     "execution_count": 54,
     "metadata": {},
     "output_type": "execute_result"
    }
   ],
   "source": [
    "df.object_type.unique()"
   ],
   "metadata": {
    "collapsed": false
   }
  },
  {
   "cell_type": "markdown",
   "source": [
    "The other problem we have is that the price is represented in russian rubels, which is obvious since we got a dataset about russian housing prices. For me it still makes much more sense to analyze the data in euro. Because we have a date for each entry which ranges from spring 2018 to early summer 2021, we need different exchange rates from those years. I acquired them from the website of the European Central Bank (https://sdw.ecb.europa.eu/quickview.do?SERIES_KEY=120.EXR.D.RUB.EUR.SP00.A)."
   ],
   "metadata": {
    "collapsed": false
   }
  },
  {
   "cell_type": "code",
   "execution_count": 55,
   "outputs": [],
   "source": [
    "df_exchange = pd.read_csv('amCharts.csv', sep= ';')\n",
    "df_exchange = df_exchange.rename(columns={'s1':'rate'})\n",
    "df_exchange.date = pd.to_datetime(df_exchange.date)\n",
    "df_exchange.date = df_exchange.date.dt.date"
   ],
   "metadata": {
    "collapsed": false
   }
  },
  {
   "cell_type": "markdown",
   "source": [
    "Next up we have to convert the rate to an actual rate, because now it just represents the value of 1 euro in rubel."
   ],
   "metadata": {
    "collapsed": false
   }
  },
  {
   "cell_type": "code",
   "execution_count": 56,
   "outputs": [],
   "source": [
    "df_exchange.rate = 1/df_exchange.rate"
   ],
   "metadata": {
    "collapsed": false
   }
  },
  {
   "cell_type": "markdown",
   "source": [
    "Now we map the exchange rate to the housing price df. After that the price gets transformed to euro."
   ],
   "metadata": {
    "collapsed": false
   }
  },
  {
   "cell_type": "code",
   "execution_count": 57,
   "outputs": [
    {
     "data": {
      "text/plain": "0           86341.12\n1          125731.31\n2           58178.43\n3           26742.30\n4           78781.36\n             ...    \n4325173     49608.21\n4325174    115752.48\n4325175     34174.54\n4325176     48505.80\n4325177    289932.40\nName: price, Length: 4325178, dtype: float64"
     },
     "execution_count": 57,
     "metadata": {},
     "output_type": "execute_result"
    }
   ],
   "source": [
    "df = df.merge(df_exchange, left_on='date', right_on='date')\n",
    "df.price = df.price * df.rate\n",
    "df.price = df.price.round(2)\n",
    "df.price"
   ],
   "metadata": {
    "collapsed": false
   }
  },
  {
   "cell_type": "code",
   "execution_count": 61,
   "outputs": [
    {
     "data": {
      "text/plain": "19.9030946"
     },
     "execution_count": 61,
     "metadata": {},
     "output_type": "execute_result"
    }
   ],
   "source": [],
   "metadata": {
    "collapsed": false
   }
  },
  {
   "cell_type": "code",
   "execution_count": null,
   "outputs": [],
   "source": [],
   "metadata": {
    "collapsed": false
   }
  }
 ],
 "metadata": {
  "kernelspec": {
   "display_name": "Python 3 (ipykernel)",
   "language": "python",
   "name": "python3"
  },
  "language_info": {
   "codemirror_mode": {
    "name": "ipython",
    "version": 3
   },
   "file_extension": ".py",
   "mimetype": "text/x-python",
   "name": "python",
   "nbconvert_exporter": "python",
   "pygments_lexer": "ipython3",
   "version": "3.9.7"
  }
 },
 "nbformat": 4,
 "nbformat_minor": 5
}
